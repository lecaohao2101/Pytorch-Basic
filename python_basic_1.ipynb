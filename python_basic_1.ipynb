{
 "cells": [
  {
   "cell_type": "code",
   "execution_count": 1,
   "id": "a653c340",
   "metadata": {
    "_cell_guid": "b1076dfc-b9ad-4769-8c92-a6c4dae69d19",
    "_uuid": "8f2839f25d086af736a60e9eeb907d3b93b6e0e5",
    "execution": {
     "iopub.execute_input": "2024-05-29T03:14:19.033393Z",
     "iopub.status.busy": "2024-05-29T03:14:19.032879Z",
     "iopub.status.idle": "2024-05-29T03:14:19.948542Z",
     "shell.execute_reply": "2024-05-29T03:14:19.947488Z"
    },
    "papermill": {
     "duration": 0.930133,
     "end_time": "2024-05-29T03:14:19.951311",
     "exception": false,
     "start_time": "2024-05-29T03:14:19.021178",
     "status": "completed"
    },
    "tags": []
   },
   "outputs": [],
   "source": [
    "# This Python 3 environment comes with many helpful analytics libraries installed\n",
    "# It is defined by the kaggle/python Docker image: https://github.com/kaggle/docker-python\n",
    "# For example, here's several helpful packages to load\n",
    "\n",
    "import numpy as np # linear algebra\n",
    "import pandas as pd # data processing, CSV file I/O (e.g. pd.read_csv)\n",
    "\n",
    "# Input data files are available in the read-only \"../input/\" directory\n",
    "# For example, running this (by clicking run or pressing Shift+Enter) will list all files under the input directory\n",
    "\n",
    "import os\n",
    "for dirname, _, filenames in os.walk('/kaggle/input'):\n",
    "    for filename in filenames:\n",
    "        print(os.path.join(dirname, filename))\n",
    "\n",
    "# You can write up to 20GB to the current directory (/kaggle/working/) that gets preserved as output when you create a version using \"Save & Run All\" \n",
    "# You can also write temporary files to /kaggle/temp/, but they won't be saved outside of the current session"
   ]
  },
  {
   "cell_type": "code",
   "execution_count": 2,
   "id": "b795791a",
   "metadata": {
    "execution": {
     "iopub.execute_input": "2024-05-29T03:14:19.972878Z",
     "iopub.status.busy": "2024-05-29T03:14:19.972359Z",
     "iopub.status.idle": "2024-05-29T03:14:23.526533Z",
     "shell.execute_reply": "2024-05-29T03:14:23.525207Z"
    },
    "papermill": {
     "duration": 3.568407,
     "end_time": "2024-05-29T03:14:23.529511",
     "exception": false,
     "start_time": "2024-05-29T03:14:19.961104",
     "status": "completed"
    },
    "tags": []
   },
   "outputs": [],
   "source": [
    "import torch"
   ]
  },
  {
   "cell_type": "code",
   "execution_count": 3,
   "id": "899e97c8",
   "metadata": {
    "execution": {
     "iopub.execute_input": "2024-05-29T03:14:23.549900Z",
     "iopub.status.busy": "2024-05-29T03:14:23.549364Z",
     "iopub.status.idle": "2024-05-29T03:14:23.651234Z",
     "shell.execute_reply": "2024-05-29T03:14:23.650027Z"
    },
    "papermill": {
     "duration": 0.114915,
     "end_time": "2024-05-29T03:14:23.653798",
     "exception": false,
     "start_time": "2024-05-29T03:14:23.538883",
     "status": "completed"
    },
    "tags": []
   },
   "outputs": [
    {
     "data": {
      "text/plain": [
       "tensor([[-2.3510e-22,  4.5572e-41, -2.3510e-22],\n",
       "        [ 4.5572e-41, -3.5484e-24,  4.5572e-41],\n",
       "        [ 1.3091e+16,  4.5572e-41,  3.8674e+19],\n",
       "        [ 4.5572e-41, -3.3232e-24,  4.5572e-41],\n",
       "        [ 1.3034e+16,  4.5572e-41, -2.3013e-23]])"
      ]
     },
     "execution_count": 3,
     "metadata": {},
     "output_type": "execute_result"
    }
   ],
   "source": [
    "#Create 5 row 3 column\n",
    "x = torch.empty(5,3)\n",
    "x"
   ]
  },
  {
   "cell_type": "code",
   "execution_count": 4,
   "id": "1981b141",
   "metadata": {
    "execution": {
     "iopub.execute_input": "2024-05-29T03:14:23.675715Z",
     "iopub.status.busy": "2024-05-29T03:14:23.674748Z",
     "iopub.status.idle": "2024-05-29T03:14:23.688012Z",
     "shell.execute_reply": "2024-05-29T03:14:23.686725Z"
    },
    "papermill": {
     "duration": 0.027511,
     "end_time": "2024-05-29T03:14:23.690678",
     "exception": false,
     "start_time": "2024-05-29T03:14:23.663167",
     "status": "completed"
    },
    "tags": []
   },
   "outputs": [
    {
     "data": {
      "text/plain": [
       "tensor([[0.2920, 0.3801, 0.2267],\n",
       "        [0.9088, 0.9944, 0.6325],\n",
       "        [0.0034, 0.7182, 0.5990],\n",
       "        [0.4184, 0.6178, 0.9693],\n",
       "        [0.0347, 0.1782, 0.7659]])"
      ]
     },
     "execution_count": 4,
     "metadata": {},
     "output_type": "execute_result"
    }
   ],
   "source": [
    "#Create random 5 row 3 column for 0 - 1\n",
    "x = torch.rand(5,3)\n",
    "x"
   ]
  },
  {
   "cell_type": "code",
   "execution_count": 5,
   "id": "81beb747",
   "metadata": {
    "execution": {
     "iopub.execute_input": "2024-05-29T03:14:23.712112Z",
     "iopub.status.busy": "2024-05-29T03:14:23.711706Z",
     "iopub.status.idle": "2024-05-29T03:14:23.721039Z",
     "shell.execute_reply": "2024-05-29T03:14:23.720016Z"
    },
    "papermill": {
     "duration": 0.023026,
     "end_time": "2024-05-29T03:14:23.723293",
     "exception": false,
     "start_time": "2024-05-29T03:14:23.700267",
     "status": "completed"
    },
    "tags": []
   },
   "outputs": [
    {
     "data": {
      "text/plain": [
       "tensor([[0, 0, 0],\n",
       "        [0, 0, 0],\n",
       "        [0, 0, 0],\n",
       "        [0, 0, 0],\n",
       "        [0, 0, 0]])"
      ]
     },
     "execution_count": 5,
     "metadata": {},
     "output_type": "execute_result"
    }
   ],
   "source": [
    "#Define data type\n",
    "x = torch.zeros(5,3, dtype=torch.long)\n",
    "x"
   ]
  },
  {
   "cell_type": "code",
   "execution_count": 6,
   "id": "34515dc1",
   "metadata": {
    "execution": {
     "iopub.execute_input": "2024-05-29T03:14:23.744169Z",
     "iopub.status.busy": "2024-05-29T03:14:23.743751Z",
     "iopub.status.idle": "2024-05-29T03:14:23.752400Z",
     "shell.execute_reply": "2024-05-29T03:14:23.751160Z"
    },
    "papermill": {
     "duration": 0.022196,
     "end_time": "2024-05-29T03:14:23.755164",
     "exception": false,
     "start_time": "2024-05-29T03:14:23.732968",
     "status": "completed"
    },
    "tags": []
   },
   "outputs": [
    {
     "data": {
      "text/plain": [
       "tensor([[-2.3510e-22,  4.5572e-41, -2.3510e-22],\n",
       "        [ 4.5572e-41,  9.3719e-01,  4.5572e-41],\n",
       "        [ 0.0000e+00,  0.0000e+00,  0.0000e+00],\n",
       "        [ 0.0000e+00,  0.0000e+00,  0.0000e+00],\n",
       "        [ 0.0000e+00,  0.0000e+00,  0.0000e+00]])"
      ]
     },
     "execution_count": 6,
     "metadata": {},
     "output_type": "execute_result"
    }
   ],
   "source": [
    "#Create by Tensor\n",
    "x = torch.Tensor(5,3)\n",
    "x"
   ]
  },
  {
   "cell_type": "code",
   "execution_count": 7,
   "id": "03f3fa6a",
   "metadata": {
    "execution": {
     "iopub.execute_input": "2024-05-29T03:14:23.776311Z",
     "iopub.status.busy": "2024-05-29T03:14:23.775909Z",
     "iopub.status.idle": "2024-05-29T03:14:23.785216Z",
     "shell.execute_reply": "2024-05-29T03:14:23.783859Z"
    },
    "papermill": {
     "duration": 0.022804,
     "end_time": "2024-05-29T03:14:23.787677",
     "exception": false,
     "start_time": "2024-05-29T03:14:23.764873",
     "status": "completed"
    },
    "tags": []
   },
   "outputs": [
    {
     "data": {
      "text/plain": [
       "tensor([5., 3.])"
      ]
     },
     "execution_count": 7,
     "metadata": {},
     "output_type": "execute_result"
    }
   ],
   "source": [
    "#Create data with me by Tensor\n",
    "x = torch.Tensor([5,3])\n",
    "x"
   ]
  },
  {
   "cell_type": "code",
   "execution_count": 8,
   "id": "69a35da8",
   "metadata": {
    "execution": {
     "iopub.execute_input": "2024-05-29T03:14:23.810563Z",
     "iopub.status.busy": "2024-05-29T03:14:23.809693Z",
     "iopub.status.idle": "2024-05-29T03:14:23.819555Z",
     "shell.execute_reply": "2024-05-29T03:14:23.818202Z"
    },
    "papermill": {
     "duration": 0.02369,
     "end_time": "2024-05-29T03:14:23.822126",
     "exception": false,
     "start_time": "2024-05-29T03:14:23.798436",
     "status": "completed"
    },
    "tags": []
   },
   "outputs": [
    {
     "data": {
      "text/plain": [
       "tensor([[1., 1., 1.],\n",
       "        [1., 1., 1.],\n",
       "        [1., 1., 1.],\n",
       "        [1., 1., 1.],\n",
       "        [1., 1., 1.]])"
      ]
     },
     "execution_count": 8,
     "metadata": {},
     "output_type": "execute_result"
    }
   ],
   "source": [
    "#Create all is 1\n",
    "x = torch.ones(5,3)\n",
    "x"
   ]
  },
  {
   "cell_type": "code",
   "execution_count": 9,
   "id": "c08784c9",
   "metadata": {
    "execution": {
     "iopub.execute_input": "2024-05-29T03:14:23.844005Z",
     "iopub.status.busy": "2024-05-29T03:14:23.843593Z",
     "iopub.status.idle": "2024-05-29T03:14:23.853992Z",
     "shell.execute_reply": "2024-05-29T03:14:23.852852Z"
    },
    "papermill": {
     "duration": 0.025018,
     "end_time": "2024-05-29T03:14:23.857107",
     "exception": false,
     "start_time": "2024-05-29T03:14:23.832089",
     "status": "completed"
    },
    "tags": []
   },
   "outputs": [
    {
     "data": {
      "text/plain": [
       "tensor([[-1.0027,  1.2768, -0.1535],\n",
       "        [-1.0141,  2.3629, -1.4121],\n",
       "        [ 1.0957, -0.1019, -1.2582],\n",
       "        [ 0.5283, -0.6532, -0.7143],\n",
       "        [-0.2482,  0.7147, -0.7318]], dtype=torch.float64)"
      ]
     },
     "execution_count": 9,
     "metadata": {},
     "output_type": "execute_result"
    }
   ],
   "source": [
    "#Create y have row and column such as x. I use randn_like\n",
    "y = torch.randn_like(x, dtype=torch.double)\n",
    "y"
   ]
  },
  {
   "cell_type": "code",
   "execution_count": 10,
   "id": "40168b2f",
   "metadata": {
    "execution": {
     "iopub.execute_input": "2024-05-29T03:14:23.879210Z",
     "iopub.status.busy": "2024-05-29T03:14:23.878836Z",
     "iopub.status.idle": "2024-05-29T03:14:23.886013Z",
     "shell.execute_reply": "2024-05-29T03:14:23.884864Z"
    },
    "papermill": {
     "duration": 0.021067,
     "end_time": "2024-05-29T03:14:23.888547",
     "exception": false,
     "start_time": "2024-05-29T03:14:23.867480",
     "status": "completed"
    },
    "tags": []
   },
   "outputs": [
    {
     "data": {
      "text/plain": [
       "torch.Size([5, 3])"
      ]
     },
     "execution_count": 10,
     "metadata": {},
     "output_type": "execute_result"
    }
   ],
   "source": [
    "#View size\n",
    "y.shape #method 1\n",
    "y.size() #method 2"
   ]
  },
  {
   "cell_type": "markdown",
   "id": "42e3914d",
   "metadata": {
    "papermill": {
     "duration": 0.010225,
     "end_time": "2024-05-29T03:14:23.908932",
     "exception": false,
     "start_time": "2024-05-29T03:14:23.898707",
     "status": "completed"
    },
    "tags": []
   },
   "source": [
    "**Add 2 data**"
   ]
  },
  {
   "cell_type": "code",
   "execution_count": 11,
   "id": "958f2d78",
   "metadata": {
    "execution": {
     "iopub.execute_input": "2024-05-29T03:14:23.931530Z",
     "iopub.status.busy": "2024-05-29T03:14:23.931169Z",
     "iopub.status.idle": "2024-05-29T03:14:23.939048Z",
     "shell.execute_reply": "2024-05-29T03:14:23.937846Z"
    },
    "papermill": {
     "duration": 0.021753,
     "end_time": "2024-05-29T03:14:23.941415",
     "exception": false,
     "start_time": "2024-05-29T03:14:23.919662",
     "status": "completed"
    },
    "tags": []
   },
   "outputs": [
    {
     "data": {
      "text/plain": [
       "tensor([[1., 1., 1.],\n",
       "        [1., 1., 1.],\n",
       "        [1., 1., 1.],\n",
       "        [1., 1., 1.],\n",
       "        [1., 1., 1.]])"
      ]
     },
     "execution_count": 11,
     "metadata": {},
     "output_type": "execute_result"
    }
   ],
   "source": [
    "x"
   ]
  },
  {
   "cell_type": "code",
   "execution_count": 12,
   "id": "c54f5913",
   "metadata": {
    "execution": {
     "iopub.execute_input": "2024-05-29T03:14:23.963968Z",
     "iopub.status.busy": "2024-05-29T03:14:23.963567Z",
     "iopub.status.idle": "2024-05-29T03:14:23.971945Z",
     "shell.execute_reply": "2024-05-29T03:14:23.970844Z"
    },
    "papermill": {
     "duration": 0.022456,
     "end_time": "2024-05-29T03:14:23.974387",
     "exception": false,
     "start_time": "2024-05-29T03:14:23.951931",
     "status": "completed"
    },
    "tags": []
   },
   "outputs": [
    {
     "data": {
      "text/plain": [
       "tensor([[0.5036, 0.2761, 0.4587],\n",
       "        [0.6824, 0.7255, 0.8714],\n",
       "        [0.7065, 0.7505, 0.0136],\n",
       "        [0.2160, 0.0047, 0.6297],\n",
       "        [0.2150, 0.9270, 0.2472]])"
      ]
     },
     "execution_count": 12,
     "metadata": {},
     "output_type": "execute_result"
    }
   ],
   "source": [
    "y = torch.rand(5, 3)\n",
    "y"
   ]
  },
  {
   "cell_type": "code",
   "execution_count": 13,
   "id": "b4bb73d6",
   "metadata": {
    "execution": {
     "iopub.execute_input": "2024-05-29T03:14:23.998898Z",
     "iopub.status.busy": "2024-05-29T03:14:23.998484Z",
     "iopub.status.idle": "2024-05-29T03:14:24.006861Z",
     "shell.execute_reply": "2024-05-29T03:14:24.005716Z"
    },
    "papermill": {
     "duration": 0.023962,
     "end_time": "2024-05-29T03:14:24.009334",
     "exception": false,
     "start_time": "2024-05-29T03:14:23.985372",
     "status": "completed"
    },
    "tags": []
   },
   "outputs": [
    {
     "data": {
      "text/plain": [
       "tensor([[1.5036, 1.2761, 1.4587],\n",
       "        [1.6824, 1.7255, 1.8714],\n",
       "        [1.7065, 1.7505, 1.0136],\n",
       "        [1.2160, 1.0047, 1.6297],\n",
       "        [1.2150, 1.9270, 1.2472]])"
      ]
     },
     "execution_count": 13,
     "metadata": {},
     "output_type": "execute_result"
    }
   ],
   "source": [
    "#Method 1\n",
    "z = x + y\n",
    "z"
   ]
  },
  {
   "cell_type": "code",
   "execution_count": 14,
   "id": "4b10f14e",
   "metadata": {
    "execution": {
     "iopub.execute_input": "2024-05-29T03:14:24.034223Z",
     "iopub.status.busy": "2024-05-29T03:14:24.033816Z",
     "iopub.status.idle": "2024-05-29T03:14:24.044636Z",
     "shell.execute_reply": "2024-05-29T03:14:24.042961Z"
    },
    "papermill": {
     "duration": 0.027324,
     "end_time": "2024-05-29T03:14:24.047311",
     "exception": false,
     "start_time": "2024-05-29T03:14:24.019987",
     "status": "completed"
    },
    "tags": []
   },
   "outputs": [
    {
     "data": {
      "text/plain": [
       "tensor([[1.5036, 1.2761, 1.4587],\n",
       "        [1.6824, 1.7255, 1.8714],\n",
       "        [1.7065, 1.7505, 1.0136],\n",
       "        [1.2160, 1.0047, 1.6297],\n",
       "        [1.2150, 1.9270, 1.2472]])"
      ]
     },
     "execution_count": 14,
     "metadata": {},
     "output_type": "execute_result"
    }
   ],
   "source": [
    "#Method 2\n",
    "z = torch.add(x, y)\n",
    "z"
   ]
  },
  {
   "cell_type": "code",
   "execution_count": 15,
   "id": "a4890154",
   "metadata": {
    "execution": {
     "iopub.execute_input": "2024-05-29T03:14:24.071229Z",
     "iopub.status.busy": "2024-05-29T03:14:24.070849Z",
     "iopub.status.idle": "2024-05-29T03:14:24.081111Z",
     "shell.execute_reply": "2024-05-29T03:14:24.079998Z"
    },
    "papermill": {
     "duration": 0.024746,
     "end_time": "2024-05-29T03:14:24.083689",
     "exception": false,
     "start_time": "2024-05-29T03:14:24.058943",
     "status": "completed"
    },
    "tags": []
   },
   "outputs": [
    {
     "data": {
      "text/plain": [
       "tensor([[1.5036, 1.2761, 1.4587],\n",
       "        [1.6824, 1.7255, 1.8714],\n",
       "        [1.7065, 1.7505, 1.0136],\n",
       "        [1.2160, 1.0047, 1.6297],\n",
       "        [1.2150, 1.9270, 1.2472]])"
      ]
     },
     "execution_count": 15,
     "metadata": {},
     "output_type": "execute_result"
    }
   ],
   "source": [
    "#Method 3\n",
    "y.add_(x) # such as: y = y + x"
   ]
  },
  {
   "cell_type": "code",
   "execution_count": 16,
   "id": "c340ae73",
   "metadata": {
    "execution": {
     "iopub.execute_input": "2024-05-29T03:14:24.106892Z",
     "iopub.status.busy": "2024-05-29T03:14:24.106487Z",
     "iopub.status.idle": "2024-05-29T03:14:24.114687Z",
     "shell.execute_reply": "2024-05-29T03:14:24.113714Z"
    },
    "papermill": {
     "duration": 0.022563,
     "end_time": "2024-05-29T03:14:24.117023",
     "exception": false,
     "start_time": "2024-05-29T03:14:24.094460",
     "status": "completed"
    },
    "tags": []
   },
   "outputs": [
    {
     "data": {
      "text/plain": [
       "tensor([[0.9414, 0.8667, 0.7233, 0.0304],\n",
       "        [0.8719, 0.5252, 0.1275, 0.8548],\n",
       "        [0.3583, 0.0315, 0.5535, 0.2586],\n",
       "        [0.3778, 0.5371, 0.8863, 0.0557]])"
      ]
     },
     "execution_count": 16,
     "metadata": {},
     "output_type": "execute_result"
    }
   ],
   "source": [
    "a = torch.rand(4, 4)\n",
    "a"
   ]
  },
  {
   "cell_type": "code",
   "execution_count": 17,
   "id": "74e7456c",
   "metadata": {
    "execution": {
     "iopub.execute_input": "2024-05-29T03:14:24.140189Z",
     "iopub.status.busy": "2024-05-29T03:14:24.139787Z",
     "iopub.status.idle": "2024-05-29T03:14:24.147956Z",
     "shell.execute_reply": "2024-05-29T03:14:24.146789Z"
    },
    "papermill": {
     "duration": 0.022563,
     "end_time": "2024-05-29T03:14:24.150287",
     "exception": false,
     "start_time": "2024-05-29T03:14:24.127724",
     "status": "completed"
    },
    "tags": []
   },
   "outputs": [
    {
     "data": {
      "text/plain": [
       "tensor([[0.1003, 0.3748, 0.2683, 0.0954],\n",
       "        [0.6054, 0.4379, 0.5873, 0.7259],\n",
       "        [0.8980, 0.3823, 0.4349, 0.0919],\n",
       "        [0.5187, 0.5136, 0.8111, 0.9769]])"
      ]
     },
     "execution_count": 17,
     "metadata": {},
     "output_type": "execute_result"
    }
   ],
   "source": [
    "b = torch.rand(4, 4)\n",
    "b"
   ]
  },
  {
   "cell_type": "code",
   "execution_count": 18,
   "id": "b415464d",
   "metadata": {
    "execution": {
     "iopub.execute_input": "2024-05-29T03:14:24.173987Z",
     "iopub.status.busy": "2024-05-29T03:14:24.173572Z",
     "iopub.status.idle": "2024-05-29T03:14:24.182971Z",
     "shell.execute_reply": "2024-05-29T03:14:24.181837Z"
    },
    "papermill": {
     "duration": 0.02448,
     "end_time": "2024-05-29T03:14:24.185683",
     "exception": false,
     "start_time": "2024-05-29T03:14:24.161203",
     "status": "completed"
    },
    "tags": []
   },
   "outputs": [
    {
     "data": {
      "text/plain": [
       "tensor([[1.0417, 1.2415, 0.9916, 0.1258],\n",
       "        [1.4773, 0.9631, 0.7148, 1.5806],\n",
       "        [1.2563, 0.4138, 0.9884, 0.3505],\n",
       "        [0.8965, 1.0507, 1.6974, 1.0326]])"
      ]
     },
     "execution_count": 18,
     "metadata": {},
     "output_type": "execute_result"
    }
   ],
   "source": [
    "#Method 4 (sum a and b)\n",
    "c = torch.empty(4, 4)\n",
    "torch.add(a,b,out=c)\n",
    "c"
   ]
  },
  {
   "cell_type": "code",
   "execution_count": 19,
   "id": "c3d4cd42",
   "metadata": {
    "execution": {
     "iopub.execute_input": "2024-05-29T03:14:24.210131Z",
     "iopub.status.busy": "2024-05-29T03:14:24.209201Z",
     "iopub.status.idle": "2024-05-29T03:14:24.222673Z",
     "shell.execute_reply": "2024-05-29T03:14:24.221429Z"
    },
    "papermill": {
     "duration": 0.028352,
     "end_time": "2024-05-29T03:14:24.225071",
     "exception": false,
     "start_time": "2024-05-29T03:14:24.196719",
     "status": "completed"
    },
    "tags": []
   },
   "outputs": [
    {
     "data": {
      "text/plain": [
       "tensor([0.8667, 0.5252, 0.0315, 0.5371])"
      ]
     },
     "execution_count": 19,
     "metadata": {},
     "output_type": "execute_result"
    }
   ],
   "source": [
    "#Get all row but get column 1\n",
    "a[:, 1]"
   ]
  },
  {
   "cell_type": "code",
   "execution_count": 20,
   "id": "70eb0508",
   "metadata": {
    "execution": {
     "iopub.execute_input": "2024-05-29T03:14:24.248973Z",
     "iopub.status.busy": "2024-05-29T03:14:24.248557Z",
     "iopub.status.idle": "2024-05-29T03:14:24.256694Z",
     "shell.execute_reply": "2024-05-29T03:14:24.255505Z"
    },
    "papermill": {
     "duration": 0.022876,
     "end_time": "2024-05-29T03:14:24.259056",
     "exception": false,
     "start_time": "2024-05-29T03:14:24.236180",
     "status": "completed"
    },
    "tags": []
   },
   "outputs": [
    {
     "data": {
      "text/plain": [
       "tensor(0.8667)"
      ]
     },
     "execution_count": 20,
     "metadata": {},
     "output_type": "execute_result"
    }
   ],
   "source": [
    "#Get row 0 and get column 1\n",
    "a[0, 1]"
   ]
  },
  {
   "cell_type": "code",
   "execution_count": 21,
   "id": "de79b4b4",
   "metadata": {
    "execution": {
     "iopub.execute_input": "2024-05-29T03:14:24.283463Z",
     "iopub.status.busy": "2024-05-29T03:14:24.283068Z",
     "iopub.status.idle": "2024-05-29T03:14:24.290417Z",
     "shell.execute_reply": "2024-05-29T03:14:24.289359Z"
    },
    "papermill": {
     "duration": 0.022403,
     "end_time": "2024-05-29T03:14:24.292744",
     "exception": false,
     "start_time": "2024-05-29T03:14:24.270341",
     "status": "completed"
    },
    "tags": []
   },
   "outputs": [
    {
     "data": {
      "text/plain": [
       "tensor([0.8667, 0.5252])"
      ]
     },
     "execution_count": 21,
     "metadata": {},
     "output_type": "execute_result"
    }
   ],
   "source": [
    "#Get row 0-2 and get column 1\n",
    "a[0:2, 1]"
   ]
  },
  {
   "cell_type": "markdown",
   "id": "df75a8fd",
   "metadata": {
    "papermill": {
     "duration": 0.011129,
     "end_time": "2024-05-29T03:14:24.315685",
     "exception": false,
     "start_time": "2024-05-29T03:14:24.304556",
     "status": "completed"
    },
    "tags": []
   },
   "source": [
    "**Chang row and column data**"
   ]
  },
  {
   "cell_type": "code",
   "execution_count": 22,
   "id": "0e633f03",
   "metadata": {
    "execution": {
     "iopub.execute_input": "2024-05-29T03:14:24.340612Z",
     "iopub.status.busy": "2024-05-29T03:14:24.340239Z",
     "iopub.status.idle": "2024-05-29T03:14:24.347097Z",
     "shell.execute_reply": "2024-05-29T03:14:24.345915Z"
    },
    "papermill": {
     "duration": 0.021937,
     "end_time": "2024-05-29T03:14:24.349384",
     "exception": false,
     "start_time": "2024-05-29T03:14:24.327447",
     "status": "completed"
    },
    "tags": []
   },
   "outputs": [
    {
     "data": {
      "text/plain": [
       "torch.Size([4, 4])"
      ]
     },
     "execution_count": 22,
     "metadata": {},
     "output_type": "execute_result"
    }
   ],
   "source": [
    "#Create x have 4 row and 4 column\n",
    "x = torch.rand(4,4)\n",
    "x.shape"
   ]
  },
  {
   "cell_type": "code",
   "execution_count": 23,
   "id": "057f45e1",
   "metadata": {
    "execution": {
     "iopub.execute_input": "2024-05-29T03:14:24.374344Z",
     "iopub.status.busy": "2024-05-29T03:14:24.373968Z",
     "iopub.status.idle": "2024-05-29T03:14:24.380885Z",
     "shell.execute_reply": "2024-05-29T03:14:24.379706Z"
    },
    "papermill": {
     "duration": 0.021812,
     "end_time": "2024-05-29T03:14:24.383096",
     "exception": false,
     "start_time": "2024-05-29T03:14:24.361284",
     "status": "completed"
    },
    "tags": []
   },
   "outputs": [
    {
     "data": {
      "text/plain": [
       "torch.Size([16])"
      ]
     },
     "execution_count": 23,
     "metadata": {},
     "output_type": "execute_result"
    }
   ],
   "source": [
    "#Change 4,4 to 1,16\n",
    "x_update = x.view(16)\n",
    "x_update.shape"
   ]
  },
  {
   "cell_type": "code",
   "execution_count": 24,
   "id": "c5a6e418",
   "metadata": {
    "execution": {
     "iopub.execute_input": "2024-05-29T03:14:24.468541Z",
     "iopub.status.busy": "2024-05-29T03:14:24.468157Z",
     "iopub.status.idle": "2024-05-29T03:14:24.475228Z",
     "shell.execute_reply": "2024-05-29T03:14:24.474160Z"
    },
    "papermill": {
     "duration": 0.022381,
     "end_time": "2024-05-29T03:14:24.477527",
     "exception": false,
     "start_time": "2024-05-29T03:14:24.455146",
     "status": "completed"
    },
    "tags": []
   },
   "outputs": [
    {
     "data": {
      "text/plain": [
       "torch.Size([2, 8])"
      ]
     },
     "execution_count": 24,
     "metadata": {},
     "output_type": "execute_result"
    }
   ],
   "source": [
    "#Automatically divide row\n",
    "x_update = x.view(-1, 8)\n",
    "x_update.shape"
   ]
  },
  {
   "cell_type": "markdown",
   "id": "266704f3",
   "metadata": {
    "papermill": {
     "duration": 0.012039,
     "end_time": "2024-05-29T03:14:24.501277",
     "exception": false,
     "start_time": "2024-05-29T03:14:24.489238",
     "status": "completed"
    },
    "tags": []
   },
   "source": [
    "**Get data**"
   ]
  },
  {
   "cell_type": "code",
   "execution_count": 25,
   "id": "f6fa5680",
   "metadata": {
    "execution": {
     "iopub.execute_input": "2024-05-29T03:14:24.527884Z",
     "iopub.status.busy": "2024-05-29T03:14:24.527352Z",
     "iopub.status.idle": "2024-05-29T03:14:24.536157Z",
     "shell.execute_reply": "2024-05-29T03:14:24.534936Z"
    },
    "papermill": {
     "duration": 0.024713,
     "end_time": "2024-05-29T03:14:24.538877",
     "exception": false,
     "start_time": "2024-05-29T03:14:24.514164",
     "status": "completed"
    },
    "tags": []
   },
   "outputs": [
    {
     "data": {
      "text/plain": [
       "tensor([0.5155])"
      ]
     },
     "execution_count": 25,
     "metadata": {},
     "output_type": "execute_result"
    }
   ],
   "source": [
    "x = torch.rand(1)\n",
    "x"
   ]
  },
  {
   "cell_type": "code",
   "execution_count": 26,
   "id": "564968c9",
   "metadata": {
    "execution": {
     "iopub.execute_input": "2024-05-29T03:14:24.567997Z",
     "iopub.status.busy": "2024-05-29T03:14:24.567305Z",
     "iopub.status.idle": "2024-05-29T03:14:24.575515Z",
     "shell.execute_reply": "2024-05-29T03:14:24.574346Z"
    },
    "papermill": {
     "duration": 0.0283,
     "end_time": "2024-05-29T03:14:24.579488",
     "exception": false,
     "start_time": "2024-05-29T03:14:24.551188",
     "status": "completed"
    },
    "tags": []
   },
   "outputs": [
    {
     "data": {
      "text/plain": [
       "0.5155229568481445"
      ]
     },
     "execution_count": 26,
     "metadata": {},
     "output_type": "execute_result"
    }
   ],
   "source": [
    "#Method 1\n",
    "x.item()"
   ]
  },
  {
   "cell_type": "code",
   "execution_count": 27,
   "id": "5df7a106",
   "metadata": {
    "execution": {
     "iopub.execute_input": "2024-05-29T03:14:24.605594Z",
     "iopub.status.busy": "2024-05-29T03:14:24.605199Z",
     "iopub.status.idle": "2024-05-29T03:14:24.613317Z",
     "shell.execute_reply": "2024-05-29T03:14:24.612164Z"
    },
    "papermill": {
     "duration": 0.02391,
     "end_time": "2024-05-29T03:14:24.615869",
     "exception": false,
     "start_time": "2024-05-29T03:14:24.591959",
     "status": "completed"
    },
    "tags": []
   },
   "outputs": [
    {
     "data": {
      "text/plain": [
       "tensor([[0.1664, 0.2188, 0.0813, 0.1780, 0.4011, 0.2915, 0.9363, 0.5598],\n",
       "        [0.2674, 0.2751, 0.2140, 0.2479, 0.1937, 0.7090, 0.0888, 0.3151]])"
      ]
     },
     "execution_count": 27,
     "metadata": {},
     "output_type": "execute_result"
    }
   ],
   "source": [
    "x_update"
   ]
  },
  {
   "cell_type": "code",
   "execution_count": 28,
   "id": "20e2a338",
   "metadata": {
    "execution": {
     "iopub.execute_input": "2024-05-29T03:14:24.642463Z",
     "iopub.status.busy": "2024-05-29T03:14:24.642087Z",
     "iopub.status.idle": "2024-05-29T03:14:24.649324Z",
     "shell.execute_reply": "2024-05-29T03:14:24.648268Z"
    },
    "papermill": {
     "duration": 0.023718,
     "end_time": "2024-05-29T03:14:24.651695",
     "exception": false,
     "start_time": "2024-05-29T03:14:24.627977",
     "status": "completed"
    },
    "tags": []
   },
   "outputs": [
    {
     "data": {
      "text/plain": [
       "0.16637594"
      ]
     },
     "execution_count": 28,
     "metadata": {},
     "output_type": "execute_result"
    }
   ],
   "source": [
    "#Method 2\n",
    "y = x_update.numpy() #Chang pytorch to numpy\n",
    "y[0, 0]"
   ]
  },
  {
   "cell_type": "code",
   "execution_count": 29,
   "id": "9c817840",
   "metadata": {
    "execution": {
     "iopub.execute_input": "2024-05-29T03:14:24.678806Z",
     "iopub.status.busy": "2024-05-29T03:14:24.678372Z",
     "iopub.status.idle": "2024-05-29T03:14:24.686364Z",
     "shell.execute_reply": "2024-05-29T03:14:24.685326Z"
    },
    "papermill": {
     "duration": 0.023981,
     "end_time": "2024-05-29T03:14:24.688688",
     "exception": false,
     "start_time": "2024-05-29T03:14:24.664707",
     "status": "completed"
    },
    "tags": []
   },
   "outputs": [
    {
     "data": {
      "text/plain": [
       "array([1., 1., 1.])"
      ]
     },
     "execution_count": 29,
     "metadata": {},
     "output_type": "execute_result"
    }
   ],
   "source": [
    "#Method 3\n",
    "a = np.ones(3)\n",
    "a"
   ]
  },
  {
   "cell_type": "code",
   "execution_count": 30,
   "id": "98142e80",
   "metadata": {
    "execution": {
     "iopub.execute_input": "2024-05-29T03:14:24.717745Z",
     "iopub.status.busy": "2024-05-29T03:14:24.717355Z",
     "iopub.status.idle": "2024-05-29T03:14:24.725911Z",
     "shell.execute_reply": "2024-05-29T03:14:24.724633Z"
    },
    "papermill": {
     "duration": 0.026481,
     "end_time": "2024-05-29T03:14:24.728394",
     "exception": false,
     "start_time": "2024-05-29T03:14:24.701913",
     "status": "completed"
    },
    "tags": []
   },
   "outputs": [
    {
     "data": {
      "text/plain": [
       "tensor([1., 1., 1.], dtype=torch.float64)"
      ]
     },
     "execution_count": 30,
     "metadata": {},
     "output_type": "execute_result"
    }
   ],
   "source": [
    "#Method 3\n",
    "b = torch.from_numpy(a)\n",
    "b"
   ]
  },
  {
   "cell_type": "markdown",
   "id": "d6aba14b",
   "metadata": {
    "papermill": {
     "duration": 0.012191,
     "end_time": "2024-05-29T03:14:24.753104",
     "exception": false,
     "start_time": "2024-05-29T03:14:24.740913",
     "status": "completed"
    },
    "tags": []
   },
   "source": [
    "**Use GPU**"
   ]
  },
  {
   "cell_type": "code",
   "execution_count": 31,
   "id": "394cf1cd",
   "metadata": {
    "execution": {
     "iopub.execute_input": "2024-05-29T03:14:24.780100Z",
     "iopub.status.busy": "2024-05-29T03:14:24.779172Z",
     "iopub.status.idle": "2024-05-29T03:14:24.786057Z",
     "shell.execute_reply": "2024-05-29T03:14:24.784852Z"
    },
    "papermill": {
     "duration": 0.022903,
     "end_time": "2024-05-29T03:14:24.788383",
     "exception": false,
     "start_time": "2024-05-29T03:14:24.765480",
     "status": "completed"
    },
    "tags": []
   },
   "outputs": [
    {
     "data": {
      "text/plain": [
       "False"
      ]
     },
     "execution_count": 31,
     "metadata": {},
     "output_type": "execute_result"
    }
   ],
   "source": [
    "device = torch.cuda.is_available()\n",
    "device\n",
    "#=> False, so haven't GPU"
   ]
  },
  {
   "cell_type": "code",
   "execution_count": 32,
   "id": "2150b479",
   "metadata": {
    "execution": {
     "iopub.execute_input": "2024-05-29T03:14:24.817441Z",
     "iopub.status.busy": "2024-05-29T03:14:24.817069Z",
     "iopub.status.idle": "2024-05-29T03:14:24.823446Z",
     "shell.execute_reply": "2024-05-29T03:14:24.822204Z"
    },
    "papermill": {
     "duration": 0.025818,
     "end_time": "2024-05-29T03:14:24.826861",
     "exception": false,
     "start_time": "2024-05-29T03:14:24.801043",
     "status": "completed"
    },
    "tags": []
   },
   "outputs": [],
   "source": [
    "if torch.cuda.is_available():\n",
    "    devide = torch.device(\"cuda\")\n",
    "    y = torch.ones_like(x, device=device)\n",
    "    x = x.to(device)\n",
    "    z = x + y\n",
    "    print(z)"
   ]
  },
  {
   "cell_type": "markdown",
   "id": "ef439a72",
   "metadata": {
    "papermill": {
     "duration": 0.012153,
     "end_time": "2024-05-29T03:14:24.851797",
     "exception": false,
     "start_time": "2024-05-29T03:14:24.839644",
     "status": "completed"
    },
    "tags": []
   },
   "source": [
    "**Use CPU**"
   ]
  },
  {
   "cell_type": "code",
   "execution_count": 33,
   "id": "535d5e30",
   "metadata": {
    "execution": {
     "iopub.execute_input": "2024-05-29T03:14:24.878491Z",
     "iopub.status.busy": "2024-05-29T03:14:24.878133Z",
     "iopub.status.idle": "2024-05-29T03:14:24.885926Z",
     "shell.execute_reply": "2024-05-29T03:14:24.884825Z"
    },
    "papermill": {
     "duration": 0.023976,
     "end_time": "2024-05-29T03:14:24.888344",
     "exception": false,
     "start_time": "2024-05-29T03:14:24.864368",
     "status": "completed"
    },
    "tags": []
   },
   "outputs": [
    {
     "data": {
      "text/plain": [
       "tensor([0.5155])"
      ]
     },
     "execution_count": 33,
     "metadata": {},
     "output_type": "execute_result"
    }
   ],
   "source": [
    "#chang gpu to cpu: cpu()\n",
    "x.cpu()"
   ]
  },
  {
   "cell_type": "markdown",
   "id": "8517635e",
   "metadata": {
    "papermill": {
     "duration": 0.013046,
     "end_time": "2024-05-29T03:14:24.914572",
     "exception": false,
     "start_time": "2024-05-29T03:14:24.901526",
     "status": "completed"
    },
    "tags": []
   },
   "source": [
    "# ***Torch.tensor***\n",
    "1. requires_grad: \n",
    "- Nhắc nhở rằng mình có enable việc lưu trữ thông tin grad xuống không\n",
    "- Có lưu thông tin gradien không?\n",
    "2. grad_fn: \n",
    "- Đã sử dụng những hàm số nào\n",
    "- Lưu thông tin hàm số đã được sử dụng của Tensor\n",
    "3. backward(): hàm đạo hàm\n",
    "4. grad: lưu các thông tin đạo hàm"
   ]
  },
  {
   "cell_type": "code",
   "execution_count": 34,
   "id": "2f6a34b8",
   "metadata": {
    "execution": {
     "iopub.execute_input": "2024-05-29T03:14:24.941969Z",
     "iopub.status.busy": "2024-05-29T03:14:24.941579Z",
     "iopub.status.idle": "2024-05-29T03:14:24.949490Z",
     "shell.execute_reply": "2024-05-29T03:14:24.948487Z"
    },
    "papermill": {
     "duration": 0.024423,
     "end_time": "2024-05-29T03:14:24.951643",
     "exception": false,
     "start_time": "2024-05-29T03:14:24.927220",
     "status": "completed"
    },
    "tags": []
   },
   "outputs": [
    {
     "data": {
      "text/plain": [
       "tensor(2., requires_grad=True)"
      ]
     },
     "execution_count": 34,
     "metadata": {},
     "output_type": "execute_result"
    }
   ],
   "source": [
    "x = torch.tensor(2.0, requires_grad=True)\n",
    "x"
   ]
  },
  {
   "cell_type": "code",
   "execution_count": 35,
   "id": "11e3e214",
   "metadata": {
    "execution": {
     "iopub.execute_input": "2024-05-29T03:14:24.979631Z",
     "iopub.status.busy": "2024-05-29T03:14:24.978928Z",
     "iopub.status.idle": "2024-05-29T03:14:24.996089Z",
     "shell.execute_reply": "2024-05-29T03:14:24.995003Z"
    },
    "papermill": {
     "duration": 0.033989,
     "end_time": "2024-05-29T03:14:24.998605",
     "exception": false,
     "start_time": "2024-05-29T03:14:24.964616",
     "status": "completed"
    },
    "tags": []
   },
   "outputs": [
    {
     "data": {
      "text/plain": [
       "tensor(7.3891, grad_fn=<ExpBackward0>)"
      ]
     },
     "execution_count": 35,
     "metadata": {},
     "output_type": "execute_result"
    }
   ],
   "source": [
    "#Create y = e^x\n",
    "y = torch.exp(x)\n",
    "y"
   ]
  },
  {
   "cell_type": "code",
   "execution_count": 36,
   "id": "d9aded2f",
   "metadata": {
    "execution": {
     "iopub.execute_input": "2024-05-29T03:14:25.025796Z",
     "iopub.status.busy": "2024-05-29T03:14:25.025363Z",
     "iopub.status.idle": "2024-05-29T03:14:25.031996Z",
     "shell.execute_reply": "2024-05-29T03:14:25.030844Z"
    },
    "papermill": {
     "duration": 0.022808,
     "end_time": "2024-05-29T03:14:25.034297",
     "exception": false,
     "start_time": "2024-05-29T03:14:25.011489",
     "status": "completed"
    },
    "tags": []
   },
   "outputs": [
    {
     "data": {
      "text/plain": [
       "<ExpBackward0 at 0x7f093f6fbdc0>"
      ]
     },
     "execution_count": 36,
     "metadata": {},
     "output_type": "execute_result"
    }
   ],
   "source": [
    "y.grad_fn"
   ]
  },
  {
   "cell_type": "code",
   "execution_count": 37,
   "id": "ba51494b",
   "metadata": {
    "execution": {
     "iopub.execute_input": "2024-05-29T03:14:25.061616Z",
     "iopub.status.busy": "2024-05-29T03:14:25.061222Z",
     "iopub.status.idle": "2024-05-29T03:14:25.073007Z",
     "shell.execute_reply": "2024-05-29T03:14:25.071979Z"
    },
    "papermill": {
     "duration": 0.02823,
     "end_time": "2024-05-29T03:14:25.075373",
     "exception": false,
     "start_time": "2024-05-29T03:14:25.047143",
     "status": "completed"
    },
    "tags": []
   },
   "outputs": [
    {
     "data": {
      "text/plain": [
       "tensor(7.3891)"
      ]
     },
     "execution_count": 37,
     "metadata": {},
     "output_type": "execute_result"
    }
   ],
   "source": [
    "y.backward()\n",
    "x.grad"
   ]
  }
 ],
 "metadata": {
  "kaggle": {
   "accelerator": "none",
   "dataSources": [],
   "dockerImageVersionId": 30698,
   "isGpuEnabled": false,
   "isInternetEnabled": false,
   "language": "python",
   "sourceType": "notebook"
  },
  "kernelspec": {
   "display_name": "Python 3",
   "language": "python",
   "name": "python3"
  },
  "language_info": {
   "codemirror_mode": {
    "name": "ipython",
    "version": 3
   },
   "file_extension": ".py",
   "mimetype": "text/x-python",
   "name": "python",
   "nbconvert_exporter": "python",
   "pygments_lexer": "ipython3",
   "version": "3.10.13"
  },
  "papermill": {
   "default_parameters": {},
   "duration": 9.80317,
   "end_time": "2024-05-29T03:14:26.011213",
   "environment_variables": {},
   "exception": null,
   "input_path": "__notebook__.ipynb",
   "output_path": "__notebook__.ipynb",
   "parameters": {},
   "start_time": "2024-05-29T03:14:16.208043",
   "version": "2.5.0"
  }
 },
 "nbformat": 4,
 "nbformat_minor": 5
}
