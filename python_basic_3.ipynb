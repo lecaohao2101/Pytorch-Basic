{
 "cells": [
  {
   "cell_type": "code",
   "execution_count": 1,
   "id": "906d4cda",
   "metadata": {
    "execution": {
     "iopub.execute_input": "2024-05-30T11:11:30.799946Z",
     "iopub.status.busy": "2024-05-30T11:11:30.798691Z",
     "iopub.status.idle": "2024-05-30T11:11:34.265717Z",
     "shell.execute_reply": "2024-05-30T11:11:34.264715Z"
    },
    "papermill": {
     "duration": 3.477141,
     "end_time": "2024-05-30T11:11:34.268701",
     "exception": false,
     "start_time": "2024-05-30T11:11:30.791560",
     "status": "completed"
    },
    "tags": []
   },
   "outputs": [],
   "source": [
    "import torch\n",
    "import torch.nn as nn"
   ]
  },
  {
   "cell_type": "code",
   "execution_count": 2,
   "id": "e83cf04d",
   "metadata": {
    "execution": {
     "iopub.execute_input": "2024-05-30T11:11:34.277679Z",
     "iopub.status.busy": "2024-05-30T11:11:34.277169Z",
     "iopub.status.idle": "2024-05-30T11:11:34.283656Z",
     "shell.execute_reply": "2024-05-30T11:11:34.282727Z"
    },
    "papermill": {
     "duration": 0.015826,
     "end_time": "2024-05-30T11:11:34.288304",
     "exception": false,
     "start_time": "2024-05-30T11:11:34.272478",
     "status": "completed"
    },
    "tags": []
   },
   "outputs": [],
   "source": [
    "net = nn.Sequential()"
   ]
  },
  {
   "cell_type": "code",
   "execution_count": 3,
   "id": "c54f2cb2",
   "metadata": {
    "execution": {
     "iopub.execute_input": "2024-05-30T11:11:34.297598Z",
     "iopub.status.busy": "2024-05-30T11:11:34.297201Z",
     "iopub.status.idle": "2024-05-30T11:11:34.303756Z",
     "shell.execute_reply": "2024-05-30T11:11:34.302539Z"
    },
    "papermill": {
     "duration": 0.013798,
     "end_time": "2024-05-30T11:11:34.306211",
     "exception": false,
     "start_time": "2024-05-30T11:11:34.292413",
     "status": "completed"
    },
    "tags": []
   },
   "outputs": [],
   "source": [
    "class Flatten(nn.Module):\n",
    "    def forward(self, x): # x = (10, 3, 32, 32) -> (10, 3*32*32)\n",
    "        size = x.size()[1:]\n",
    "        num_features = 1\n",
    "        for s in size:\n",
    "            num_features *= s\n",
    "        return x.view(-1, num_features)"
   ]
  },
  {
   "cell_type": "code",
   "execution_count": 4,
   "id": "2b8eab7f",
   "metadata": {
    "execution": {
     "iopub.execute_input": "2024-05-30T11:11:34.314894Z",
     "iopub.status.busy": "2024-05-30T11:11:34.314514Z",
     "iopub.status.idle": "2024-05-30T11:11:34.356725Z",
     "shell.execute_reply": "2024-05-30T11:11:34.355727Z"
    },
    "papermill": {
     "duration": 0.04964,
     "end_time": "2024-05-30T11:11:34.359382",
     "exception": false,
     "start_time": "2024-05-30T11:11:34.309742",
     "status": "completed"
    },
    "tags": []
   },
   "outputs": [],
   "source": [
    "net.add_module(\"Conv1\", nn.Conv2d(1, 6, 3))\n",
    "net.add_module(\"ReLU1\", nn.ReLU())\n",
    "net.add_module(\"Maxpooling1\", nn.MaxPool2d(2))\n",
    "\n",
    "net.add_module(\"Conv2\", nn.Conv2d(6, 16, 3))\n",
    "net.add_module(\"ReLU2\", nn.ReLU())\n",
    "net.add_module(\"Maxpooling2\", nn.MaxPool2d(2))\n",
    "net.add_module(\"Flatten\", Flatten())\n",
    "\n",
    "net.add_module(\"Fc1\", nn.Linear(16*6*6, 120))\n",
    "net.add_module(\"Fc2\", nn.Linear(120, 84))\n",
    "net.add_module(\"Fc3\", nn.Linear(84, 10))"
   ]
  },
  {
   "cell_type": "code",
   "execution_count": 5,
   "id": "2177a635",
   "metadata": {
    "execution": {
     "iopub.execute_input": "2024-05-30T11:11:34.367703Z",
     "iopub.status.busy": "2024-05-30T11:11:34.367342Z",
     "iopub.status.idle": "2024-05-30T11:11:34.373106Z",
     "shell.execute_reply": "2024-05-30T11:11:34.371771Z"
    },
    "papermill": {
     "duration": 0.013037,
     "end_time": "2024-05-30T11:11:34.375884",
     "exception": false,
     "start_time": "2024-05-30T11:11:34.362847",
     "status": "completed"
    },
    "tags": []
   },
   "outputs": [
    {
     "name": "stdout",
     "output_type": "stream",
     "text": [
      "Sequential(\n",
      "  (Conv1): Conv2d(1, 6, kernel_size=(3, 3), stride=(1, 1))\n",
      "  (ReLU1): ReLU()\n",
      "  (Maxpooling1): MaxPool2d(kernel_size=2, stride=2, padding=0, dilation=1, ceil_mode=False)\n",
      "  (Conv2): Conv2d(6, 16, kernel_size=(3, 3), stride=(1, 1))\n",
      "  (ReLU2): ReLU()\n",
      "  (Maxpooling2): MaxPool2d(kernel_size=2, stride=2, padding=0, dilation=1, ceil_mode=False)\n",
      "  (Flatten): Flatten()\n",
      "  (Fc1): Linear(in_features=576, out_features=120, bias=True)\n",
      "  (Fc2): Linear(in_features=120, out_features=84, bias=True)\n",
      "  (Fc3): Linear(in_features=84, out_features=10, bias=True)\n",
      ")\n"
     ]
    }
   ],
   "source": [
    "print(net)"
   ]
  },
  {
   "cell_type": "code",
   "execution_count": 6,
   "id": "4db278a3",
   "metadata": {
    "execution": {
     "iopub.execute_input": "2024-05-30T11:11:34.384866Z",
     "iopub.status.busy": "2024-05-30T11:11:34.384455Z",
     "iopub.status.idle": "2024-05-30T11:11:34.469048Z",
     "shell.execute_reply": "2024-05-30T11:11:34.467609Z"
    },
    "papermill": {
     "duration": 0.091926,
     "end_time": "2024-05-30T11:11:34.471477",
     "exception": false,
     "start_time": "2024-05-30T11:11:34.379551",
     "status": "completed"
    },
    "tags": []
   },
   "outputs": [
    {
     "name": "stdout",
     "output_type": "stream",
     "text": [
      "tensor([[[[0.7769, 0.4612, 0.2429,  ..., 0.2885, 0.3436, 0.7039],\n",
      "          [0.6804, 0.3382, 0.7836,  ..., 0.9807, 0.5439, 0.7157],\n",
      "          [0.4803, 0.3748, 0.9134,  ..., 0.1105, 0.5727, 0.7200],\n",
      "          ...,\n",
      "          [0.6525, 0.2981, 0.2896,  ..., 0.9762, 0.2446, 0.5191],\n",
      "          [0.9603, 0.4972, 0.7208,  ..., 0.2897, 0.3936, 0.4802],\n",
      "          [0.9623, 0.5954, 0.6564,  ..., 0.6601, 0.8698, 0.1590]]]])\n"
     ]
    }
   ],
   "source": [
    "input = torch.rand(1, 1, 32, 32)\n",
    "print(input)"
   ]
  },
  {
   "cell_type": "code",
   "execution_count": 7,
   "id": "b386300d",
   "metadata": {
    "execution": {
     "iopub.execute_input": "2024-05-30T11:11:34.480469Z",
     "iopub.status.busy": "2024-05-30T11:11:34.480032Z",
     "iopub.status.idle": "2024-05-30T11:11:34.517496Z",
     "shell.execute_reply": "2024-05-30T11:11:34.516131Z"
    },
    "papermill": {
     "duration": 0.044726,
     "end_time": "2024-05-30T11:11:34.519905",
     "exception": false,
     "start_time": "2024-05-30T11:11:34.475179",
     "status": "completed"
    },
    "tags": []
   },
   "outputs": [
    {
     "name": "stdout",
     "output_type": "stream",
     "text": [
      "torch.Size([1, 10])\n"
     ]
    }
   ],
   "source": [
    "output = net(input)\n",
    "print(output.shape)"
   ]
  }
 ],
 "metadata": {
  "kaggle": {
   "accelerator": "none",
   "dataSources": [],
   "dockerImageVersionId": 30698,
   "isGpuEnabled": false,
   "isInternetEnabled": false,
   "language": "python",
   "sourceType": "notebook"
  },
  "kernelspec": {
   "display_name": "Python 3",
   "language": "python",
   "name": "python3"
  },
  "language_info": {
   "codemirror_mode": {
    "name": "ipython",
    "version": 3
   },
   "file_extension": ".py",
   "mimetype": "text/x-python",
   "name": "python",
   "nbconvert_exporter": "python",
   "pygments_lexer": "ipython3",
   "version": "3.10.13"
  },
  "papermill": {
   "default_parameters": {},
   "duration": 7.649961,
   "end_time": "2024-05-30T11:11:35.345678",
   "environment_variables": {},
   "exception": null,
   "input_path": "__notebook__.ipynb",
   "output_path": "__notebook__.ipynb",
   "parameters": {},
   "start_time": "2024-05-30T11:11:27.695717",
   "version": "2.5.0"
  }
 },
 "nbformat": 4,
 "nbformat_minor": 5
}
