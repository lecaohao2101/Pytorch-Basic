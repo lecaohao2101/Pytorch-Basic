{
 "cells": [
  {
   "cell_type": "code",
   "execution_count": 1,
   "id": "5d69ce84",
   "metadata": {
    "_cell_guid": "b1076dfc-b9ad-4769-8c92-a6c4dae69d19",
    "_uuid": "8f2839f25d086af736a60e9eeb907d3b93b6e0e5",
    "execution": {
     "iopub.execute_input": "2024-05-30T10:30:39.430775Z",
     "iopub.status.busy": "2024-05-30T10:30:39.430328Z",
     "iopub.status.idle": "2024-05-30T10:30:40.554421Z",
     "shell.execute_reply": "2024-05-30T10:30:40.553472Z"
    },
    "papermill": {
     "duration": 1.132432,
     "end_time": "2024-05-30T10:30:40.557449",
     "exception": false,
     "start_time": "2024-05-30T10:30:39.425017",
     "status": "completed"
    },
    "tags": []
   },
   "outputs": [],
   "source": [
    "# This Python 3 environment comes with many helpful analytics libraries installed\n",
    "# It is defined by the kaggle/python Docker image: https://github.com/kaggle/docker-python\n",
    "# For example, here's several helpful packages to load\n",
    "\n",
    "import numpy as np # linear algebra\n",
    "import pandas as pd # data processing, CSV file I/O (e.g. pd.read_csv)\n",
    "\n",
    "# Input data files are available in the read-only \"../input/\" directory\n",
    "# For example, running this (by clicking run or pressing Shift+Enter) will list all files under the input directory\n",
    "\n",
    "import os\n",
    "for dirname, _, filenames in os.walk('/kaggle/input'):\n",
    "    for filename in filenames:\n",
    "        print(os.path.join(dirname, filename))\n",
    "\n",
    "# You can write up to 20GB to the current directory (/kaggle/working/) that gets preserved as output when you create a version using \"Save & Run All\" \n",
    "# You can also write temporary files to /kaggle/temp/, but they won't be saved outside of the current session"
   ]
  },
  {
   "cell_type": "code",
   "execution_count": 2,
   "id": "a55965e3",
   "metadata": {
    "execution": {
     "iopub.execute_input": "2024-05-30T10:30:40.566025Z",
     "iopub.status.busy": "2024-05-30T10:30:40.565435Z",
     "iopub.status.idle": "2024-05-30T10:30:44.677599Z",
     "shell.execute_reply": "2024-05-30T10:30:44.675935Z"
    },
    "papermill": {
     "duration": 4.11967,
     "end_time": "2024-05-30T10:30:44.680437",
     "exception": false,
     "start_time": "2024-05-30T10:30:40.560767",
     "status": "completed"
    },
    "tags": []
   },
   "outputs": [],
   "source": [
    "import torch\n",
    "import torch.nn as nn\n",
    "import torch.nn.functional as F"
   ]
  },
  {
   "cell_type": "code",
   "execution_count": 3,
   "id": "4afb511f",
   "metadata": {
    "execution": {
     "iopub.execute_input": "2024-05-30T10:30:44.689305Z",
     "iopub.status.busy": "2024-05-30T10:30:44.688139Z",
     "iopub.status.idle": "2024-05-30T10:30:44.701445Z",
     "shell.execute_reply": "2024-05-30T10:30:44.700201Z"
    },
    "papermill": {
     "duration": 0.020414,
     "end_time": "2024-05-30T10:30:44.704185",
     "exception": false,
     "start_time": "2024-05-30T10:30:44.683771",
     "status": "completed"
    },
    "tags": []
   },
   "outputs": [],
   "source": [
    "class Net(nn.Module):\n",
    "    def __init__(self):\n",
    "        super(Net, self).__init__()\n",
    "        #convolutional layer\n",
    "        self.conv1 = nn.Conv2d(1, 6, 3) #(input_ch, output_ch, stride)\n",
    "        self.conv2 = nn.Conv2d(6, 16, 3)\n",
    "        self.fc1 = nn.Linear(16*6*6, 120)\n",
    "        self.fc2 = nn.Linear(120, 84)\n",
    "        self.fc3 = nn.Linear(84, 10)\n",
    "        \n",
    "        #kernel: width*hight\n",
    "        # 1, 2\n",
    "        # 3, 4\n",
    "        \n",
    "        #relu:Rectified Linear Unit\n",
    "        #return x if x >= 0\n",
    "        # return 0 if x < 0\n",
    "    def forward(self, x):\n",
    "        x = self.conv1(x)\n",
    "        x = F.relu(x)\n",
    "        x = F.max_pool2d(x, (2, 2))\n",
    "        \n",
    "        x = self.conv2(x)\n",
    "        x = F.relu(x)\n",
    "        x = F.max_pool2d(x, 2)\n",
    "        \n",
    "        x = x.view(-1, self.num_flat_features(x))\n",
    "        \n",
    "        x = F.relu(self.fc1(x))\n",
    "        x = F.relu(self.fc2(x))\n",
    "        x = F.relu(self.fc3(x))\n",
    "        \n",
    "        return x\n",
    "        \n",
    "    def num_flat_features(self, x):\n",
    "        size = x.size()[1:] #(3, 4, 5)\n",
    "        num_features = 1\n",
    "        for s in size:\n",
    "            num_features *= s\n",
    "        return num_features"
   ]
  },
  {
   "cell_type": "code",
   "execution_count": 4,
   "id": "e8362ddf",
   "metadata": {
    "execution": {
     "iopub.execute_input": "2024-05-30T10:30:44.712119Z",
     "iopub.status.busy": "2024-05-30T10:30:44.711665Z",
     "iopub.status.idle": "2024-05-30T10:30:44.760155Z",
     "shell.execute_reply": "2024-05-30T10:30:44.758238Z"
    },
    "papermill": {
     "duration": 0.055952,
     "end_time": "2024-05-30T10:30:44.763179",
     "exception": false,
     "start_time": "2024-05-30T10:30:44.707227",
     "status": "completed"
    },
    "tags": []
   },
   "outputs": [
    {
     "name": "stdout",
     "output_type": "stream",
     "text": [
      "Net(\n",
      "  (conv1): Conv2d(1, 6, kernel_size=(3, 3), stride=(1, 1))\n",
      "  (conv2): Conv2d(6, 16, kernel_size=(3, 3), stride=(1, 1))\n",
      "  (fc1): Linear(in_features=576, out_features=120, bias=True)\n",
      "  (fc2): Linear(in_features=120, out_features=84, bias=True)\n",
      "  (fc3): Linear(in_features=84, out_features=10, bias=True)\n",
      ")\n"
     ]
    }
   ],
   "source": [
    "net = Net()\n",
    "print(net)"
   ]
  },
  {
   "cell_type": "code",
   "execution_count": 5,
   "id": "cbb6831d",
   "metadata": {
    "execution": {
     "iopub.execute_input": "2024-05-30T10:30:44.771545Z",
     "iopub.status.busy": "2024-05-30T10:30:44.771131Z",
     "iopub.status.idle": "2024-05-30T10:30:44.860040Z",
     "shell.execute_reply": "2024-05-30T10:30:44.858765Z"
    },
    "papermill": {
     "duration": 0.096245,
     "end_time": "2024-05-30T10:30:44.862710",
     "exception": false,
     "start_time": "2024-05-30T10:30:44.766465",
     "status": "completed"
    },
    "tags": []
   },
   "outputs": [
    {
     "data": {
      "text/plain": [
       "torch.Size([1, 10])"
      ]
     },
     "execution_count": 5,
     "metadata": {},
     "output_type": "execute_result"
    }
   ],
   "source": [
    "input_image = torch.rand(1, 1, 32, 32)\n",
    "output = net(input_image)\n",
    "output.size()"
   ]
  }
 ],
 "metadata": {
  "kaggle": {
   "accelerator": "none",
   "dataSources": [],
   "dockerImageVersionId": 30698,
   "isGpuEnabled": false,
   "isInternetEnabled": false,
   "language": "python",
   "sourceType": "notebook"
  },
  "kernelspec": {
   "display_name": "Python 3",
   "language": "python",
   "name": "python3"
  },
  "language_info": {
   "codemirror_mode": {
    "name": "ipython",
    "version": 3
   },
   "file_extension": ".py",
   "mimetype": "text/x-python",
   "name": "python",
   "nbconvert_exporter": "python",
   "pygments_lexer": "ipython3",
   "version": "3.10.13"
  },
  "papermill": {
   "default_parameters": {},
   "duration": 9.849608,
   "end_time": "2024-05-30T10:30:45.990759",
   "environment_variables": {},
   "exception": null,
   "input_path": "__notebook__.ipynb",
   "output_path": "__notebook__.ipynb",
   "parameters": {},
   "start_time": "2024-05-30T10:30:36.141151",
   "version": "2.5.0"
  }
 },
 "nbformat": 4,
 "nbformat_minor": 5
}
